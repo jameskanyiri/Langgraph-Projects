{
 "cells": [
  {
   "cell_type": "code",
   "execution_count": 10,
   "metadata": {},
   "outputs": [],
   "source": [
    "from pydantic import BaseModel\n",
    "from typing import List\n",
    "from langchain_community.tools.tavily_search import TavilySearchResults\n",
    "from langchain_openai import ChatOpenAI\n",
    "from langgraph.graph import StateGraph, END\n",
    "from typing import TypedDict\n",
    "from dotenv import load_dotenv\n",
    "from langchain_core.messages import HumanMessage, SystemMessage\n",
    "import os\n",
    "\n",
    "load_dotenv()\n",
    "\n",
    "os.environ['LANGCHAIN_PROJECT'] = \"travel-planner\"\n"
   ]
  },
  {
   "cell_type": "code",
   "execution_count": 11,
   "metadata": {},
   "outputs": [],
   "source": [
    "llm  = ChatOpenAI(temperature=0, model='gpt-4o-mini')"
   ]
  },
  {
   "cell_type": "code",
   "execution_count": 12,
   "metadata": {},
   "outputs": [],
   "source": [
    "class AgentState(TypedDict):\n",
    "    destination: str\n",
    "    from_date: str\n",
    "    to_date: str\n",
    "    plan: str\n",
    "    research_results: List[str]\n",
    "    itinerary: str"
   ]
  },
  {
   "cell_type": "code",
   "execution_count": 13,
   "metadata": {},
   "outputs": [],
   "source": [
    "PLANNER_PROMPT = \"\"\" You are an expert travel planner tasked with creating a high \\\n",
    "level itinerary outline.Write such an outline for the user provided \\\n",
    "destination and dates. Give an outline of the itinerary. \"\"\"\n",
    "\n",
    "RESEARCH_PLAN_PROMPT = \"\"\"You are a travel planner tasked with finding events \\\n",
    "for a user visiting. Generate a list of search queries that will gather \\\n",
    "information on local events during this period such as music festivals, \\\n",
    "food fairs, technical conferences, or any other noteworthy events. \\\n",
    "Only generate 3 queries max.\"\"\"\n",
    "\n",
    "WRITER_PROMPT = \"\"\"You are a travel agent tasked with creating the best \\\n",
    "possible travel itinerary for the user's trip. Generate a detailed itinerary \\\n",
    "based on the provided destination, dates, and any relevant information. \\\n",
    "If the user provides feedback or changes, respond with a revised version \\\n",
    "of your previous itinerary.\\\n",
    "Utilize all the information below as needed:\n",
    "\n",
    "{content}\n",
    "\"\"\"\n"
   ]
  },
  {
   "cell_type": "code",
   "execution_count": 14,
   "metadata": {},
   "outputs": [],
   "source": [
    "def travel_plan_node(state: AgentState):\n",
    "    messages = [\n",
    "        SystemMessage(content=PLANNER_PROMPT),\n",
    "        HumanMessage(content=f\"Destination: {state['destination']}\\n\\n Dates: \\n Start Date: {state['from_date']}\\nEnd Date: {state['to_date']}\")\n",
    "    ]\n",
    "    \n",
    "    response = llm.invoke(messages).content\n",
    "    \n",
    "    return {\"plan\": response}\n",
    "    \n",
    "    "
   ]
  },
  {
   "cell_type": "code",
   "execution_count": 15,
   "metadata": {},
   "outputs": [],
   "source": [
    "\n",
    "\n",
    "\n",
    "class Query(BaseModel):\n",
    "    queries: List[str]\n",
    "\n",
    "\n",
    "tavily_search_tool = TavilySearchResults()\n",
    "\n",
    "\n",
    "def travel_research_node(state: AgentState):\n",
    "\n",
    "    messages = [\n",
    "        SystemMessage(content=RESEARCH_PLAN_PROMPT),\n",
    "        HumanMessage(\n",
    "            content=f\"Destination: {state['destination']}\\n\\n Dates: \\n Start Date: {state['from_date']}\\nEnd Date: {state['to_date']}\"\n",
    "        ),\n",
    "    ]\n",
    "    quiries = llm.with_structured_output(Query).invoke(messages)\n",
    "\n",
    "    tavily_results = []\n",
    "\n",
    "    for q in quiries.queries:\n",
    "        tavily_responses = tavily_search_tool.invoke(q)\n",
    "\n",
    "        for response in tavily_responses:\n",
    "            tavily_results.append(response[\"content\"])\n",
    "\n",
    "    return {\"research_results\": tavily_results}\n",
    "\n",
    "\n"
   ]
  },
  {
   "cell_type": "code",
   "execution_count": 16,
   "metadata": {},
   "outputs": [],
   "source": [
    "def generate_travel_itinerary(state: AgentState):\n",
    "    research_result = \"\\n\\n\" .join(state['research_results'] or [])\n",
    "    \n",
    "    user_message = HumanMessage(\n",
    "        content=f\"Destination: {state['destination']}\\n\\n Dates: \\n Start Date: {state['from_date']}\\nEnd Date: {state['to_date']} \\n\\n\\n Here is my plan: \\n {state['plan']}\"\n",
    "    )\n",
    "    \n",
    "    \n",
    "    messages = [\n",
    "        SystemMessage(content=WRITER_PROMPT.format(content=research_result)),\n",
    "        user_message\n",
    "    ]\n",
    "    \n",
    "    response = llm.invoke(messages).content\n",
    "    \n",
    "    return {\"itinerary\": response}"
   ]
  },
  {
   "cell_type": "code",
   "execution_count": 20,
   "metadata": {},
   "outputs": [],
   "source": [
    "workflow = StateGraph(AgentState)\n",
    "\n",
    "workflow.add_node('travel_plan_node', travel_plan_node)\n",
    "workflow.add_node('travel_research_node', travel_research_node)\n",
    "workflow.add_node('generate_travel_itinerary', generate_travel_itinerary)\n",
    "\n",
    "workflow.set_entry_point('travel_plan_node')\n",
    "workflow.add_edge('travel_plan_node', \"travel_research_node\")\n",
    "workflow.add_edge('travel_research_node', \"generate_travel_itinerary\")\n",
    "workflow.add_edge('generate_travel_itinerary', END)\n",
    "\n",
    "\n",
    "graph = workflow.compile()"
   ]
  },
  {
   "cell_type": "code",
   "execution_count": 21,
   "metadata": {},
   "outputs": [
    {
     "data": {
      "image/jpeg": "[encoded data removed]",
      "text/plain": [
       "<IPython.core.display.Image object>"
      ]
     },
     "metadata": {},
     "output_type": "display_data"
    }
   ],
   "source": [
    "from IPython.display import Image, display\n",
    "\n",
    "try:\n",
    "    display(Image(graph.get_graph().draw_mermaid_png()))\n",
    "except Exception:\n",
    "    # This requires some extra dependencies and is optional\n",
    "    pass"
   ]
  },
  {
   "cell_type": "code",
   "execution_count": 24,
   "metadata": {},
   "outputs": [],
   "source": [
    "user_input = {\n",
    "    'destination': 'Kenya, Nairobi',\n",
    "    'from_date': '2024-10-21',\n",
    "    'to_date': '2024-10-25'\n",
    "}\n",
    "\n",
    "response = graph.invoke(user_input)"
   ]
  },
  {
   "cell_type": "code",
   "execution_count": 30,
   "metadata": {},
   "outputs": [
    {
     "name": "stdout",
     "output_type": "stream",
     "text": [
      "### Detailed Itinerary for Nairobi, Kenya  \n",
      "**Dates: October 21, 2024 - October 25, 2024**\n",
      "\n",
      "---\n",
      "\n",
      "#### Day 1: Arrival in Nairobi  \n",
      "**Date: October 21, 2024**  \n",
      "- **Morning:**  \n",
      "  - Arrive at Jomo Kenyatta International Airport (NBO)  \n",
      "  - Transfer to your hotel (suggested: Sarova Panafric Hotel or similar) for check-in  \n",
      "- **Afternoon:**  \n",
      "  - **Lunch:** Enjoy a meal at **Carnivore Restaurant** known for its variety of meats or **Nyama Mama** for a modern twist on traditional Kenyan dishes.  \n",
      "  - **Activity:** Visit the **Nairobi National Museum** (Entry Fee: KES 1,200) to explore Kenya's rich history and culture.  \n",
      "- **Evening:**  \n",
      "  - **Dinner:** Dine at **The View Restaurant** for stunning city views.  \n",
      "  - **Optional:** Explore local nightlife at **K1 Klub House** or relax at the hotel.\n",
      "\n",
      "---\n",
      "\n",
      "#### Day 2: Nairobi City Tour  \n",
      "**Date: October 22, 2024**  \n",
      "- **Morning:**  \n",
      "  - **Breakfast:** Enjoy a buffet breakfast at the hotel.  \n",
      "  - **Activity:** Visit the **David Sheldrick Wildlife Trust** (Entry Fee: KES 500) to see baby elephants and learn about conservation efforts.  \n",
      "- **Afternoon:**  \n",
      "  - **Lunch:** Grab a bite at **Tamambo Karen Blixen** nearby.  \n",
      "  - **Activity:** Visit the **Giraffe Centre** (Entry Fee: KES 1,500) to feed and learn about the endangered Rothschild giraffes.  \n",
      "- **Evening:**  \n",
      "  - **Dinner:** Experience traditional Kenyan cuisine at **The Talisman**.  \n",
      "  - **Optional:** Attend a cultural performance at **Bomas of Kenya** (check schedule for performances).\n",
      "\n",
      "---\n",
      "\n",
      "#### Day 3: Day Trip to Nairobi National Park  \n",
      "**Date: October 23, 2024**  \n",
      "- **Morning:**  \n",
      "  - **Breakfast:** Early breakfast at the hotel.  \n",
      "  - **Activity:** Depart for **Nairobi National Park** for a half-day safari (Entry Fee: KES 4,000).  \n",
      "- **Afternoon:**  \n",
      "  - **Lunch:** Enjoy a picnic lunch in the park (pack from the hotel or buy from a local vendor).  \n",
      "  - **Activity:** Continue your safari or visit the **Nairobi Railway Museum** (Entry Fee: KES 1,000) to learn about Kenya's railway history.  \n",
      "- **Evening:**  \n",
      "  - Return to the hotel to freshen up.  \n",
      "  - **Dinner:** Dine at **Fogo Gaucho** for a Brazilian steakhouse experience.\n",
      "\n",
      "---\n",
      "\n",
      "#### Day 4: Cultural and Historical Exploration  \n",
      "**Date: October 24, 2024**  \n",
      "- **Morning:**  \n",
      "  - **Breakfast:** Enjoy breakfast at the hotel.  \n",
      "  - **Activity:** Visit the **Karen Blixen Museum** (Entry Fee: KES 1,200) to explore the life of the famous author.  \n",
      "- **Afternoon:**  \n",
      "  - **Lunch:** Dine at **The Karen Blixen Coffee Garden**.  \n",
      "  - **Activity:** Tour the **Kazuri Beads Women's Factory** (Entry Fee: Free) to see how handmade ceramic beads are made and shop for souvenirs.  \n",
      "- **Evening:**  \n",
      "  - **Dinner:** Enjoy a meal at **The Sarova Stanley**.  \n",
      "  - **Optional:** Visit the **Maasai Market** for unique crafts and souvenirs (bargaining is encouraged).\n",
      "\n",
      "---\n",
      "\n",
      "#### Day 5: Departure  \n",
      "**Date: October 25, 2024**  \n",
      "- **Morning:**  \n",
      "  - **Breakfast:** Enjoy breakfast at the hotel.  \n",
      "  - **Activity:** Last-minute shopping at **Westgate Shopping Mall** or visit **Bomas of Kenya** for cultural performances (check schedule).  \n",
      "- **Afternoon:**  \n",
      "  - Check out of the hotel.  \n",
      "  - Transfer to Jomo Kenyatta International Airport for your departure flight.  \n",
      "\n",
      "---\n",
      "\n",
      "### Additional Notes:  \n",
      "- **Accommodation:** Book a hotel in the city center for easy access to attractions.  \n",
      "- **Transportation:** Arrange for airport transfers and local transportation (consider using Uber or local taxis).  \n",
      "- **Health & Safety:** Ensure vaccinations are up to date and consider travel insurance.  \n",
      "- **Currency:** Familiarize yourself with the Kenyan Shilling (KES) and local payment methods.  \n",
      "\n",
      "--- \n",
      "\n",
      "This detailed itinerary offers a well-rounded experience of Nairobi, blending wildlife, culture, and culinary delights for an unforgettable trip! If you have any changes or additional requests, feel free to let me know!\n"
     ]
    }
   ],
   "source": [
    "\n",
    "print(response['itinerary'])"
   ]
  }
 ],
 "metadata": {
  "kernelspec": {
   "display_name": ".venv",
   "language": "python",
   "name": "python3"
  },
  "language_info": {
   "codemirror_mode": {
    "name": "ipython",
    "version": 3
   },
   "file_extension": ".py",
   "mimetype": "text/x-python",
   "name": "python",
   "nbconvert_exporter": "python",
   "pygments_lexer": "ipython3",
   "version": "3.13.0"
  }
 },
 "nbformat": 4,
 "nbformat_minor": 2
}
